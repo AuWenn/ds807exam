{
  "cells": [
    {
      "cell_type": "markdown",
      "metadata": {
        "id": "nL8_uR6K4Vg7"
      },
      "source": [
        "# Problem 1: PatchCamelyon\n",
        "*Course*: DS807 \\\n",
        "*Authors*: August E. Wennerwald, Kasper Lin Hannberg, Oliver Klejst, Søren Pico, Thomas Fischer\n",
        "\n"
      ]
    },
    {
      "cell_type": "markdown",
      "metadata": {
        "id": "fbbP7QuppiCh"
      },
      "source": [
        "## Modules and data"
      ]
    },
    {
      "cell_type": "code",
      "execution_count": 113,
      "metadata": {
        "id": "38J7J9XH4Vg-"
      },
      "outputs": [],
      "source": [
        "# -- MODULES -- #\n",
        "\n",
        "# Tensorflow\n",
        "import tensorflow_datasets as tfds\n",
        "import tensorflow as tf\n",
        "from tensorflow.keras.applications.resnet50 import ResNet50\n",
        "\n",
        "from tensorflow.keras.applications import EfficientNetB0, EfficientNetB1, EfficientNetB2\n",
        "from tensorflow.keras.layers import Input, Dense, Conv2D, Flatten, Dropout, MaxPooling2D, BatchNormalization, GlobalAveragePooling2D\n",
        "from tensorflow.keras.models import Model\n",
        "from tensorflow.keras.optimizers import SGD\n",
        "from tensorflow.keras.callbacks import EarlyStopping\n",
        "from tensorflow.keras.utils import plot_model\n",
        "\n",
        "\n",
        "# Additional\n",
        "from matplotlib import pyplot as plt\n",
        "import numpy as np\n",
        "from sklearn.metrics import mean_squared_error, accuracy_score\n",
        "import random\n",
        "from tqdm import tqdm\n",
        "from re import VERBOSE\n",
        "\n",
        "# -- DIRECTORY -- #\n",
        "wd = './'"
      ]
    },
    {
      "cell_type": "code",
      "execution_count": 114,
      "metadata": {
        "colab": {
          "base_uri": "https://localhost:8080/"
        },
        "id": "XDZlw-GB4Vg_",
        "outputId": "d8a2296f-d950-4486-8ea1-04a18e0b156c"
      },
      "outputs": [
        {
          "name": "stdout",
          "output_type": "stream",
          "text": [
            "Drive already mounted at /content/drive; to attempt to forcibly remount, call drive.mount(\"/content/drive\", force_remount=True).\n",
            "Num GPUs Available:  1\n"
          ]
        }
      ],
      "source": [
        "# NOTE: un-comment if run in google colab\n",
        "\n",
        "# from google.colab import drive\n",
        "# drive.mount('/content/drive')\n",
        "# wd = '/content/drive/My Drive/DS807 (AML)/'\n",
        "# print(\"Num GPUs Available: \", len(tf.config.experimental.list_physical_devices('GPU')))"
      ]
    },
    {
      "cell_type": "code",
      "execution_count": 23,
      "metadata": {
        "id": "z-DSNeF0wJoi"
      },
      "outputs": [],
      "source": [
        "# Convert data to (x,y)-format\n",
        "def convert_sample(sample):\n",
        "    image, label = sample['image'], sample['label']\n",
        "    image = tf.image.convert_image_dtype(image, tf.float32)\n",
        "    label = tf.one_hot(label, 2, dtype=tf.float32)\n",
        "    return image, label"
      ]
    },
    {
      "cell_type": "code",
      "execution_count": 22,
      "metadata": {
        "id": "rG5jsayr4VhA"
      },
      "outputs": [],
      "source": [
        "# -- LOAD DATA -- #\n",
        "\n",
        "# AE, VAE\n",
        "d1a, d2a, d3a = tfds.load('patch_camelyon', split=[f'train[50%:]',f'test[50%:]',f'validation[50%:]'],\n",
        "                          data_dir=wd+'DATA/PCAM',\n",
        "                          download=False,\n",
        "                          shuffle_files=True)\n",
        "\n",
        "# Classification\n",
        "d1b, d2b, d3b = tfds.load('patch_camelyon', split=[f'train[:50%]',f'test[:50%]',f'validation[:50%]'],\n",
        "                          data_dir=wd+'DATA/PCAM',\n",
        "                          download=False,\n",
        "                          shuffle_files=True)\n",
        "\n",
        "# AE, VAE\n",
        "train_images_a = d1a.map(lambda x: convert_sample(x)[0]).batch(128)\n",
        "validation_images_a = d3a.map(lambda x: convert_sample(x)[0]).batch(128)\n",
        "test_images_a = d2a.map(lambda x: convert_sample(x)[0]).batch(128)\n",
        "\n",
        "# Classification\n",
        "train_data_b = d1b.map(convert_sample).batch(64)\n",
        "validation_data_b = d3b.map(convert_sample).batch(64)\n",
        "test_data_b = d2b.map(convert_sample).batch(64)"
      ]
    },
    {
      "cell_type": "code",
      "execution_count": 21,
      "metadata": {
        "id": "MC9fsZwe4VhB"
      },
      "outputs": [],
      "source": [
        "# -- ADDITIONAL FUNCTIONS -- #\n",
        "\n",
        "# Function for freezing parameters of input model\n",
        "def freeze_model_parameters(model):\n",
        "    for l in model.layers:\n",
        "        l.trainable = False\n",
        "\n",
        "# Function for generating plots of traning history\n",
        "def plot_training_hist(hist, best_epoch = None):\n",
        "  fig = plt.figure(figsize=plt.figaspect(0.1 * 2))\n",
        "\n",
        "  ax = fig.add_subplot(1, 2, 1)\n",
        "  ax.plot(hist.history['val_loss'], label='Validation loss')\n",
        "  ax.plot(hist.history['loss'], label='Training loss')\n",
        "  plt.xlabel('Epoch')\n",
        "  plt.ylabel('Loss')\n",
        "  if best_epoch is not None:\n",
        "    plt.axvline(x=best_epoch, c='black', linestyle='--', label='Best epoch')\n",
        "  plt.legend()\n",
        "\n",
        "  ax = fig.add_subplot(1, 2, 2)\n",
        "  ax.plot(hist.history['val_accuracy'], label='Validation accuracy')\n",
        "  ax.plot(hist.history['accuracy'], label='Training accuracy')\n",
        "  plt.xlabel('Epoch')\n",
        "  plt.ylabel('Accuracy')\n",
        "  plt.legend()"
      ]
    },
    {
      "cell_type": "markdown",
      "metadata": {
        "id": "e3Z0xTrv4VhB"
      },
      "source": [
        "## Baseline CNN models"
      ]
    },
    {
      "cell_type": "code",
      "execution_count": null,
      "metadata": {
        "id": "Tc1SjBQq4VhC"
      },
      "outputs": [],
      "source": [
        "# -- FUNCTION TO PLOT RESHAPE SAMPLE -- ##\n",
        "\n",
        "# To show resized images - this example is with 32,32,1, same has been used for 6,6,1\n",
        "# train_images_baseline = d1a.map(lambda x: convert_sample(x)[0]).batch(32)\n",
        "# validation_images_baseline = d3a.map(lambda x: convert_sample(x)[0]).batch(32)\n",
        "# test_images_baseline = d2a.map(lambda x: convert_sample(x)[0]).batch(32)\n",
        "\n",
        "# Test reshape\n",
        "def sample_reshape(idx = None, shape = [6,6], grayScale = True, normalize = False):\n",
        "    fig = plt.figure(figsize=(10,10))\n",
        "\n",
        "    batch = next(iter(test_images_a))\n",
        "    if idx is None:\n",
        "        idx = random.randint(0,len(batch))\n",
        "    print(idx)\n",
        "\n",
        "    original_img = batch[idx].numpy()\n",
        "    fig.add_subplot(1,2,1)\n",
        "    plt.imshow(original_img)\n",
        "    plt.axis('off')\n",
        "\n",
        "    reshaped_img = tf.image.resize(original_img, shape)\n",
        "\n",
        "    if grayScale:\n",
        "        reshaped_img = tf.image.rgb_to_grayscale(reshaped_img)\n",
        "\n",
        "    if normalize:\n",
        "        reshaped_img = reshaped_img / 255\n",
        "\n",
        "    fig.add_subplot(1,2,2)\n",
        "    plt.imshow(reshaped_img, cmap='gray')\n",
        "    plt.axis('off')\n",
        "\n",
        "    print(f'Size of reshaped image: {reshaped_img.shape}')\n",
        "\n",
        "# sample_reshape(19, shape = [32,32])\n",
        "# sample_reshape(19, shape = [6,6])"
      ]
    },
    {
      "cell_type": "code",
      "execution_count": null,
      "metadata": {
        "id": "KRnTph8v4VhC"
      },
      "outputs": [],
      "source": [
        "# -- 6x6 IMAGE CLASSIFICATION -- #\n",
        "\n",
        "#Function to resize and grayscale images\n",
        "def resize_six(image):\n",
        "    image= tf.image.resize(image,[6,6])\n",
        "    image = tf.image.rgb_to_grayscale(image)\n",
        "    return image\n",
        "\n",
        "#apply the function on the datasets\n",
        "train_data_reshaped_six = train_data_b.map(lambda x, y: (resize_six(x), y))\n",
        "validation_data_reshaped__six = validation_data_b.map(lambda x, y: (resize_six(x), y))\n",
        "test_data_reshaped__six = test_data_b.map(lambda x, y: (resize_six(x), y))\n",
        "\n",
        "#CNN model for 6x6 pixels\n",
        "cnn_model_six = tf.keras.models.Sequential([\n",
        "    Conv2D(6, (2, 2), padding='same', activation='relu', input_shape=(6,6,1)),\n",
        "    BatchNormalization(),\n",
        "    Conv2D(12, (2, 2), padding='same', activation='relu'),\n",
        "    MaxPooling2D(pool_size=(2,2)),\n",
        "    Conv2D(18, (2,2), padding='same', activation= 'relu'),\n",
        "    Dropout(rate=0.3),\n",
        "    Conv2D(36, (2,2), padding='same', activation= 'relu'),\n",
        "    Conv2D(72, (3,3), padding='same', activation= 'relu'),\n",
        "    Dropout(rate=0.2),\n",
        "    Conv2D(96, (4,4), padding='same', activation= 'relu'),\n",
        "    Flatten(),\n",
        "    Dense(36, activation='relu'),\n",
        "    BatchNormalization(),\n",
        "    Dense(12, activation='relu'),\n",
        "    Dropout(rate=0.2),\n",
        "    Dense(6, activation='relu'),\n",
        "    Dense(2, activation='softmax'),\n",
        "], name=\"cnn_model_six\")\n",
        "\n",
        "#optimizer, applying a Stochastic Gradient Descent\n",
        "sgd_opt = SGD(learning_rate=0.001, momentum=0.9, nesterov=True)\n",
        "\n",
        "#one hot encoded from the convert_sample function so therefore categorical_crossentropy\n",
        "cnn_model_six.compile(loss='categorical_crossentropy',\n",
        "                      optimizer=sgd_opt,\n",
        "                      metrics=['accuracy'])\n",
        "\n",
        "#Early stopping callback\n",
        "early_stop = EarlyStopping(monitor='val_loss',\n",
        "                           patience=3,\n",
        "                           restore_best_weights=True,\n",
        "                           verbose=1)\n",
        "\n",
        "#Get overview and parameters of model\n",
        "# cnn_model_six.summary()"
      ]
    },
    {
      "cell_type": "code",
      "execution_count": null,
      "metadata": {
        "colab": {
          "base_uri": "https://localhost:8080/"
        },
        "id": "Hc0H9_QzcW_o",
        "outputId": "1dd61670-224b-4176-96c2-f16da66829dc"
      },
      "outputs": [],
      "source": [
        "# Fitting the model, running it for 50 epochs with early_stop as callback\n",
        "hist_six = cnn_model_six.fit(train_data_reshaped_six,\n",
        "                 validation_data=validation_data_reshaped__six,\n",
        "                 epochs=50,\n",
        "                 callbacks=[early_stop])\n",
        "\n",
        "# cnn_model_six.save_weights(wd+'ds807_problem1_weights/saved_weights_baseline_CNN/CNN_baseline_six_weights.h5')"
      ]
    },
    {
      "cell_type": "code",
      "execution_count": null,
      "metadata": {
        "colab": {
          "base_uri": "https://localhost:8080/",
          "height": 363
        },
        "id": "mOIhfowTcI2W",
        "outputId": "42253074-1afc-48ec-b9e7-64cf8e0ba450"
      },
      "outputs": [],
      "source": [
        "#Now plotting accuracy and loss for training and validation set using function plots()\n",
        "plot_training_hist(hist_six, best_epoch = 5)\n",
        "\n",
        "#To evaluate the model on the test data\n",
        "cnn_model_six.evaluate(test_data_reshaped__six)"
      ]
    },
    {
      "cell_type": "code",
      "execution_count": null,
      "metadata": {
        "id": "KDEbWFWF4VhD"
      },
      "outputs": [],
      "source": [
        "# -- 32x32 IMAGE CLASSIFICATION -- #\n",
        "\n",
        "#same procedure as before, this time rescaling to 32,32\n",
        "def resize(image):\n",
        "    image= tf.image.resize(image,[32,32])\n",
        "    image = tf.image.rgb_to_grayscale(image)\n",
        "    return image\n",
        "\n",
        "#apply function on datasets\n",
        "train_data_reshaped_thirtytwo = train_data_b.map(lambda x, y: (resize(x), y))\n",
        "validation_data_reshaped__thirtytwo = validation_data_b.map(lambda x, y: (resize(x), y))\n",
        "test_data_reshaped__thirtytwo = test_data_b.map(lambda x, y: (resize(x), y))\n",
        "\n",
        "#CNN model for 32x32 pixels\n",
        "cnn_model_thirtytwo = tf.keras.models.Sequential([\n",
        "    Conv2D(32, (2, 2), padding='same', activation='relu', input_shape=(32,32,1)),\n",
        "    BatchNormalization(),\n",
        "    Conv2D(64, (2, 2), padding='same', activation='relu'),\n",
        "    MaxPooling2D(pool_size=(2,2)),\n",
        "    Conv2D(64, (2,2), padding='same', activation= 'relu'),\n",
        "    Dropout(rate=0.3),\n",
        "    Conv2D(32, (2,2), padding='same', activation= 'relu'),\n",
        "    Flatten(),\n",
        "    Dense(16, activation='relu'),\n",
        "    BatchNormalization(),\n",
        "    Dense(8, activation='relu'),\n",
        "    Dropout(rate=0.2),\n",
        "    Dense(2, activation='softmax'),\n",
        "], name=\"cnn_model_thirtytwo\")\n",
        "\n",
        "#Creating optimizer, the Stochastic Gradient Descent\n",
        "sgd_opt = SGD(learning_rate=0.001, momentum=0.9, nesterov=True)\n",
        "\n",
        "#compiling model\n",
        "cnn_model_thirtytwo.compile(loss='categorical_crossentropy',\n",
        "                            optimizer=sgd_opt,\n",
        "                            metrics=['accuracy'])\n",
        "\n",
        "#Overview of model to get parameters\n",
        "#cnn_model_thirtytwo.summary()"
      ]
    },
    {
      "cell_type": "code",
      "execution_count": null,
      "metadata": {
        "colab": {
          "base_uri": "https://localhost:8080/"
        },
        "id": "e9eXyKiwkMm-",
        "outputId": "123ca034-cada-4f8f-ba26-eb6b7ceebd3e"
      },
      "outputs": [],
      "source": [
        "# Fitting the model, running it for 50 epochs with early_stop as callback\n",
        "hist_thirtytwo = cnn_model_thirtytwo.fit(train_data_reshaped_thirtytwo,\n",
        "                 validation_data=validation_data_reshaped__thirtytwo,\n",
        "                 epochs=50,\n",
        "                 callbacks=[early_stop])\n",
        "\n",
        "# cnn_model_thirtytwo.save_weights(wd+'ds807_problem1_weights/saved_weights_baseline_CNN/CNN_baseline_thirtytwo_weights.h5')"
      ]
    },
    {
      "cell_type": "code",
      "execution_count": null,
      "metadata": {
        "colab": {
          "base_uri": "https://localhost:8080/",
          "height": 363
        },
        "id": "dRswLjqGj-WI",
        "outputId": "67128d2d-bd1e-4c65-dfee-a6cbac9180cd"
      },
      "outputs": [],
      "source": [
        "#Now plotting accuracy and loss for training and validation set using function plots()\n",
        "plot_training_hist(hist_thirtytwo, best_epoch=5)\n",
        "\n",
        "#Evaluating model on test set\n",
        "cnn_model_thirtytwo.evaluate(test_data_reshaped__thirtytwo)"
      ]
    },
    {
      "cell_type": "markdown",
      "metadata": {
        "id": "_JjH4Nfd4VhE"
      },
      "source": [
        "## Autoender (AE)"
      ]
    },
    {
      "cell_type": "markdown",
      "metadata": {
        "id": "mdj58g2WrKzv"
      },
      "source": [
        "### Building and training AE-model"
      ]
    },
    {
      "cell_type": "code",
      "execution_count": null,
      "metadata": {
        "id": "yAEFTaZi4VhE"
      },
      "outputs": [],
      "source": [
        "# -- BUILD AND TRAIN AE-MODEL -- #\n",
        "\n",
        "encoder_ae = tf.keras.models.Sequential([\n",
        "    tf.keras.layers.Conv2D(16,kernel_size=(3, 3),activation='relu',padding='same',strides=2,input_shape=(96, 96, 3)),\n",
        "    tf.keras.layers.Conv2D(8, kernel_size=(3, 3), activation='relu', padding='same', strides=2),\n",
        "],name='encoder_ae')\n",
        "\n",
        "decoder_ae = tf.keras.models.Sequential([\n",
        "    tf.keras.layers.Conv2DTranspose(8,3,strides=2,activation='relu',padding='same',input_shape=(24, 24, 8)),\n",
        "    tf.keras.layers.Conv2DTranspose(16, 3, strides=2, activation='relu', padding='same'),\n",
        "    tf.keras.layers.Conv2D(3, kernel_size=(3, 3), activation='sigmoid', padding='same'),\n",
        "],name='decoder_ae')\n",
        "\n",
        "autoencoder = tf.keras.models.Sequential([encoder_ae, decoder_ae], name='autoencoder')\n",
        "\n",
        "autoencoder.compile(loss='mse', optimizer='adam')\n",
        "\n",
        "ae_early_stop = EarlyStopping(monitor='val_loss',\n",
        "                           patience=3,\n",
        "                           restore_best_weights=True,\n",
        "                           verbose=1)"
      ]
    },
    {
      "cell_type": "code",
      "execution_count": null,
      "metadata": {
        "id": "ylKRMZM0uiZY"
      },
      "outputs": [],
      "source": [
        "# Create new data for training autoender\n",
        "ae_train, ae_test, ae_val = tfds.load('patch_camelyon', split=[f'train[:50%]',f'test[:50%]',f'validation[:50%]'],\n",
        "                          data_dir=wd+'DATA/PCAM',\n",
        "                          download=False,\n",
        "                          shuffle_files=True)\n",
        "\n",
        "\n",
        "ae_train = ae_train.map(convert_sample).batch(32)\n",
        "ae_test = ae_test.map(convert_sample).batch(32)\n",
        "ae_val = ae_val.map(convert_sample).batch(32)"
      ]
    },
    {
      "cell_type": "code",
      "execution_count": null,
      "metadata": {
        "id": "emAct-T6rcJr"
      },
      "outputs": [],
      "source": [
        "autoencoder.fit(ae_train.map(lambda x, y: (x,x)),\n",
        "                validation_data=ae_val.map(lambda x, y: (x,x)),\n",
        "                epochs=30,\n",
        "                callbacks=[ae_early_stop])\n",
        "\n",
        "#encoder_ae.save_weights(wd+'ds807_problem1_weights/saved_weights_AE/ae_encoder_weights.h5')\n",
        "#decoder_ae.save_weights(wd+'ds807_problem1_weights/saved_weights_AE/ae_decoder_weights.h5')"
      ]
    },
    {
      "cell_type": "code",
      "execution_count": null,
      "metadata": {
        "colab": {
          "base_uri": "https://localhost:8080/",
          "height": 572
        },
        "id": "uVNtUE9hrT4z",
        "outputId": "23664b40-2035-4a06-9585-780b015373c6"
      },
      "outputs": [],
      "source": [
        "# -- SAMPLE AE RECONSTRUCTIONS -- #\n",
        "\n",
        "# Load autoencoder weights\n",
        "encoder_ae.load_weights(wd+'saved_weights_AE/ae_encoder_weights.h5')\n",
        "decoder_ae.load_weights(wd+'saved_weights_AE/ae_decoder_weights.h5')\n",
        "autoencoder = tf.keras.models.Sequential([encoder_ae, decoder_ae], name='autoencoder')\n",
        "\n",
        "# Function for plotting sample AE reconstructions\n",
        "def plot_ae_reconstructions(n, model):\n",
        "\n",
        "    class_label_dict = {0: 'benign', 1: 'malignant'}\n",
        "    plt.figure(figsize=(20,4))\n",
        "    batch = next(iter(ae_test))\n",
        "\n",
        "    for i in range(n):\n",
        "        original_img = batch[0][i].numpy()\n",
        "        class_label_int = tf.argmax(batch[1][i]).numpy()\n",
        "        ax = plt.subplot(2, n, i + 1)\n",
        "        plt.imshow(original_img)\n",
        "        plt.title(f'original \\n {class_label_int} ({class_label_dict[class_label_int]})')\n",
        "        ax.get_xaxis().set_visible(False)\n",
        "        ax.get_yaxis().set_visible(False)\n",
        "\n",
        "        original_img_reshaped = original_img.reshape((1,)+original_img.shape)\n",
        "        reconstructed_img = model.predict(original_img_reshaped)\n",
        "        reconstructed_img_reshaped = np.reshape(reconstructed_img, (96,96,3))\n",
        "        mse = round(tf.keras.losses.MeanSquaredError()(original_img, reconstructed_img_reshaped).numpy(),4)\n",
        "        mse = str(mse)\n",
        "        ax = plt.subplot(2, n, i + 1 + n)\n",
        "        plt.imshow(reconstructed_img_reshaped)\n",
        "        plt.title(\"reconstructed\")\n",
        "        plt.title(f'reconstructions \\n MSE = {mse}')\n",
        "        ax.get_xaxis().set_visible(False)\n",
        "        ax.get_yaxis().set_visible(False)\n",
        "    plt.subplots_adjust(hspace=0.5, wspace=0.2)\n",
        "    plt.show()\n",
        "\n",
        "plot_ae_reconstructions(10, autoencoder)"
      ]
    },
    {
      "cell_type": "markdown",
      "metadata": {
        "id": "cGDN66lSEe6f"
      },
      "source": [
        "### AE-based classification"
      ]
    },
    {
      "cell_type": "code",
      "execution_count": null,
      "metadata": {
        "colab": {
          "base_uri": "https://localhost:8080/"
        },
        "id": "XnKRmnVVqZt3",
        "outputId": "937ce384-3386-43bd-e398-f6a10f183b8e"
      },
      "outputs": [],
      "source": [
        "# -- AE-BASED CLASSIFICATION MODEL -- #\n",
        "\n",
        "# Load and freeze encoder parameters\n",
        "encoder_ae.load_weights(wd+'saved_weights_AE/ae_encoder_weights.h5')\n",
        "freeze_model_parameters(encoder_ae)\n",
        "\n",
        "#CNN model:\n",
        "ae_classifier = tf.keras.models.Sequential([\n",
        "    encoder_ae,\n",
        "    Conv2D(16, (2,2), padding='same', activation='relu'),\n",
        "    Conv2D(32, (2,2), padding='same', activation='relu'),\n",
        "    Dropout(rate=0.2),\n",
        "    Conv2D(32, (2,2), padding='same', activation='relu'),\n",
        "    Conv2D(16, (2,2), padding='same', activation='relu'),\n",
        "    Dropout(rate=0.2),\n",
        "    Conv2D(8, (2,2), padding='same', activation='relu'),\n",
        "    tf.keras.layers.Flatten(),\n",
        "    tf.keras.layers.Dense(32, activation='relu'),\n",
        "    Dropout(rate=0.5),\n",
        "    tf.keras.layers.Dense(16, activation='relu'),\n",
        "    tf.keras.layers.Dense(2, activation='softmax'),\n",
        "], name = 'ae_classifier')\n",
        "\n",
        "#Optimizer, using the Stochastic Gradient Descent\n",
        "sgd_opt = SGD(learning_rate=0.001, momentum=0.9, nesterov=True)\n",
        "\n",
        "#one hot encoded so therefore categorical_crossentropy\n",
        "ae_classifier.compile(loss='categorical_crossentropy', optimizer=sgd_opt, metrics=['accuracy'])\n",
        "\n",
        "#Early stopping as callback\n",
        "early_stop_ae_classification = EarlyStopping(monitor='val_loss',\n",
        "                                             patience=3,\n",
        "                                             restore_best_weights=True,\n",
        "                                             verbose = 1)\n",
        "\n",
        "# Summary of model\n",
        "ae_classifier.summary()"
      ]
    },
    {
      "cell_type": "code",
      "execution_count": null,
      "metadata": {
        "colab": {
          "base_uri": "https://localhost:8080/"
        },
        "id": "t8ByslhuE1T8",
        "outputId": "bc62a061-121d-467c-ca76-8b23c49f3c8a"
      },
      "outputs": [],
      "source": [
        "#Fitting model:\n",
        "ae_classification_hist = ae_classifier.fit(train_data_b,\n",
        "                   validation_data=validation_data_b,\n",
        "                   epochs=50,\n",
        "                   callbacks =[early_stop_ae_classification])\n",
        "\n",
        "\n",
        "# ae_classifier.save_weights(wd+'ds807_problem1_weights/saved_weights_AE/ae_classifier_weights.h5')"
      ]
    },
    {
      "cell_type": "code",
      "execution_count": null,
      "metadata": {
        "colab": {
          "base_uri": "https://localhost:8080/",
          "height": 282
        },
        "id": "ztKyxNgEMn7N",
        "outputId": "36cc774c-c02a-4715-d3f3-711d3ffa98ac"
      },
      "outputs": [],
      "source": [
        "# Test ae-classifier and plot training\n",
        "# ae_classifier.evaluate(test_data_b)\n",
        "plot_training_hist(ae_classification_hist)"
      ]
    },
    {
      "cell_type": "markdown",
      "metadata": {
        "id": "SUOnveMd4VhF"
      },
      "source": [
        "## Variational autoencoder (VAE)"
      ]
    },
    {
      "cell_type": "markdown",
      "metadata": {
        "id": "qXYgw83urTPt"
      },
      "source": [
        "### Building and training VAE-models"
      ]
    },
    {
      "cell_type": "code",
      "execution_count": 38,
      "metadata": {
        "id": "hU0LzXgg4VhF"
      },
      "outputs": [],
      "source": [
        "# -- GENERAL SETUP OF VAE MODELS -- #\n",
        "\n",
        "# VAE class\n",
        "class VAE(tf.keras.Model):\n",
        "    def __init__(self, latent_dim, encoder, decoder):\n",
        "        super(VAE, self).__init__()\n",
        "        self.latent_dim = latent_dim\n",
        "        self.encoder = encoder\n",
        "        self.decoder = decoder\n",
        "\n",
        "    def encode(self, x):\n",
        "        params = self.encoder(x)\n",
        "        return tf.split(params, num_or_size_splits=2, axis=1) # mean, logvar\n",
        "\n",
        "    def decode(self, z):\n",
        "        return self.decoder(z)\n",
        "\n",
        "    def reparameterize(self, mean, logvar):\n",
        "        eps = tf.random.normal(shape=mean.shape)\n",
        "        return eps * tf.exp(logvar * 0.5) + mean\n",
        "\n",
        "    @tf.function\n",
        "    def sample(self, eps=None):\n",
        "        if eps is None:\n",
        "            eps = tf.random.normal(shape=(100, self.latent_dim))\n",
        "        return tf.sigmoid(self.decode(eps))\n",
        "\n",
        "# Loss function\n",
        "def log_normal_pdf(sample, mean, logvar, raxis=1):\n",
        "    log2pi = tf.math.log(2. * np.pi)\n",
        "    vals = -.5 * ((sample - mean) ** 2. * tf.exp(-logvar) + logvar + log2pi)\n",
        "\n",
        "    return tf.reduce_sum(vals, axis=raxis)\n",
        "\n",
        "def compute_loss(model, x):\n",
        "    mean, logvar = model.encode(x)\n",
        "    z = model.reparameterize(mean, logvar)\n",
        "    x_logit = model.decode(z)\n",
        "    cross_ent = tf.nn.sigmoid_cross_entropy_with_logits(logits=x_logit, labels=x)\n",
        "    logpx_z = -tf.reduce_sum(cross_ent, axis=[1, 2, 3])\n",
        "    logpz = log_normal_pdf(z, 0., 0.)\n",
        "    logqz_x = log_normal_pdf(z, mean, logvar)\n",
        "\n",
        "    return -tf.reduce_mean(logpx_z + logpz - logqz_x)\n",
        "\n",
        "# Training step\n",
        "@tf.function\n",
        "def train_step(model, x, optimizer):\n",
        "    with tf.GradientTape() as tape:\n",
        "        loss = compute_loss(model, x)\n",
        "\n",
        "    gradients = tape.gradient(loss, model.trainable_variables)\n",
        "    optimizer.apply_gradients(zip(gradients, model.trainable_variables))\n",
        "\n",
        "# Reconstruct and plot test/validation images\n",
        "def generate_and_show_images(model, epoch, test_sample):\n",
        "    mean, logvar = model.encode(test_sample)\n",
        "    z = model.reparameterize(mean, logvar)\n",
        "    predictions = model.sample(z)\n",
        "    fig = plt.figure(figsize=(4, 4))\n",
        "\n",
        "    for i in range(predictions.shape[0]):\n",
        "        plt.subplot(4, 4, i + 1)\n",
        "        plt.imshow(predictions[i])\n",
        "        plt.axis('off')\n",
        "\n",
        "    plt.show()\n",
        "\n",
        "# Setup optimizer\n",
        "optimizer = tf.keras.optimizers.legacy.Adam(1e-4)   # Use when run on M1/M2\n",
        "#optimizer = tf.keras.optimizers.Adam(1e-4)          # Use otherwise\n",
        "\n",
        "# Sample for reconstrunction\n",
        "test_sample = next(iter(validation_images_a.take(1)))[:16]\n"
      ]
    },
    {
      "cell_type": "code",
      "execution_count": 39,
      "metadata": {
        "id": "U041iH024VhF"
      },
      "outputs": [],
      "source": [
        "# -- VAE_16 MODEL -- #\n",
        "\n",
        "vae16_encoder = tf.keras.models.Sequential([\n",
        "    tf.keras.layers.Conv2D(64, kernel_size= 3, strides = 1, padding='same', activation='relu', input_shape=(96, 96, 3)),\n",
        "    tf.keras.layers.Conv2D(128, kernel_size=3, strides= 2, padding='same', activation='relu'),\n",
        "    tf.keras.layers.Conv2D(256, kernel_size=3, strides= 2, padding='same', activation='relu'),\n",
        "    tf.keras.layers.Flatten(),\n",
        "    tf.keras.layers.Dense(2 * 16), # latent dim = 16\n",
        "])\n",
        "\n",
        "vae16_decoder = tf.keras.models.Sequential([\n",
        "    tf.keras.layers.Dense(units=24*24*32, activation='relu', input_shape=(16,)),\n",
        "    tf.keras.layers.Reshape(target_shape= (24, 24, 32)),\n",
        "    tf.keras.layers.Conv2DTranspose(256, kernel_size = 3, strides= 2, padding='same', activation='relu'),\n",
        "    tf.keras.layers.Conv2DTranspose(128, kernel_size = 3, strides= 1, padding='same', activation='relu'),\n",
        "    tf.keras.layers.Conv2DTranspose(64, kernel_size = 3, strides= 1, padding='same', activation='relu'),\n",
        "    tf.keras.layers.Conv2DTranspose(32, kernel_size = 3, strides= 2, padding='same', activation='relu'),\n",
        "    tf.keras.layers.Conv2DTranspose(3,3, strides= 1, padding=\"same\", activation=\"sigmoid\")\n",
        "])\n",
        "\n",
        "#vae16_encoder.summary()\n",
        "#vae16_decoder.summary()\n",
        "\n",
        "vae16 = VAE(16, vae16_encoder, vae16_decoder)\n"
      ]
    },
    {
      "cell_type": "code",
      "execution_count": null,
      "metadata": {
        "id": "oHhAH41g4VhF"
      },
      "outputs": [],
      "source": [
        "# -- TRAINING OF VAE_16 MODEL -- #\n",
        "for epoch in range(30):\n",
        "    for train_x in train_images_a:\n",
        "        train_step(vae16, train_x, optimizer)\n",
        "\n",
        "    loss = tf.keras.metrics.Mean()\n",
        "    for test_x in test_images_a:\n",
        "        loss(compute_loss(vae16, test_x))\n",
        "    variational_lower_bound = -loss.result()\n",
        "\n",
        "    print(f'Epoch: {epoch+1}, Test set variational lower bound: {variational_lower_bound}')\n",
        "    generate_and_show_images(vae16, epoch, test_sample)"
      ]
    },
    {
      "cell_type": "code",
      "execution_count": null,
      "metadata": {
        "id": "BdvL03Tf4VhG"
      },
      "outputs": [],
      "source": [
        "# -- SAVE VAE_16 EN+DECODER WEIGHTS -- #\n",
        "#vae16_encoder.save_weights(wd+'ds807_problem1_weights/saved_weights_VAE/VAE_16_encoder_weights.h5')\n",
        "#vae16_decoder.save_weights(wd+'ds807_problem1_weights/saved_weights_VAE/VAE_16_decoder_weights.h5')"
      ]
    },
    {
      "cell_type": "code",
      "execution_count": 40,
      "metadata": {
        "id": "FLIL1mzf4VhG"
      },
      "outputs": [],
      "source": [
        "# -- VAE_32 MODEL -- #\n",
        "\n",
        "vae32_encoder = tf.keras.models.Sequential([\n",
        "    tf.keras.layers.Conv2D(64, kernel_size= 3, strides = 1, padding='same', activation='relu', input_shape=(96, 96, 3)),\n",
        "    tf.keras.layers.Conv2D(128, kernel_size=3, strides= 2, padding='same', activation='relu'),\n",
        "    tf.keras.layers.Conv2D(256, kernel_size=3, strides= 2, padding='same', activation='relu'),\n",
        "    tf.keras.layers.Flatten(),\n",
        "    tf.keras.layers.Dense(2 * 32), # latent dim = 32\n",
        "])\n",
        "\n",
        "vae32_decoder = tf.keras.models.Sequential([\n",
        "    tf.keras.layers.Dense(units=24*24*32, activation='relu', input_shape=(32,)),\n",
        "    tf.keras.layers.Reshape(target_shape= (24, 24, 32)),\n",
        "    tf.keras.layers.Conv2DTranspose(256, kernel_size = 3, strides= 2, padding='same', activation='relu'),\n",
        "    tf.keras.layers.Conv2DTranspose(128, kernel_size = 3, strides= 1, padding='same', activation='relu'),\n",
        "    tf.keras.layers.Conv2DTranspose(64, kernel_size = 3, strides= 1, padding='same', activation='relu'),\n",
        "    tf.keras.layers.Conv2DTranspose(32, kernel_size = 3, strides= 2, padding='same', activation='relu'),\n",
        "    tf.keras.layers.Conv2DTranspose(3,3, strides= 1, padding=\"same\", activation=\"sigmoid\")\n",
        "])\n",
        "\n",
        "#vae32_encoder.summary()\n",
        "#vae32_decoder.summary()\n",
        "\n",
        "vae32 = VAE(32, vae32_encoder, vae32_decoder)"
      ]
    },
    {
      "cell_type": "code",
      "execution_count": null,
      "metadata": {
        "id": "A5QmYwZP4VhG"
      },
      "outputs": [],
      "source": [
        "# -- TRAINING OF VAE_32 MODEL -- #\n",
        "for epoch in range(40):\n",
        "    for train_x in train_images_a:\n",
        "        train_step(vae32, train_x, optimizer)\n",
        "\n",
        "    loss = tf.keras.metrics.Mean()\n",
        "    for test_x in test_images_a:\n",
        "        loss(compute_loss(vae32, test_x))\n",
        "    variational_lower_bound = -loss.result()\n",
        "\n",
        "    print(f'Epoch: {epoch+1}, Test set variational lower bound: {variational_lower_bound}')\n",
        "    generate_and_show_images(vae32, epoch, test_sample)"
      ]
    },
    {
      "cell_type": "code",
      "execution_count": null,
      "metadata": {
        "id": "m2Ii2v6e4VhG"
      },
      "outputs": [],
      "source": [
        "# -- SAVE VAE_32 EN+DECODER WEIGHTS -- #\n",
        "#vae16_encoder.save_weights(wd+'ds807_problem1_weights/saved_weights_VAE/VAE_32_encoder_weights.h5')\n",
        "#vae16_decoder.save_weights(wd+'ds807_problem1_weights/saved_weights_VAE/VAE_32_decoder_weights.h5')"
      ]
    },
    {
      "cell_type": "code",
      "execution_count": null,
      "metadata": {
        "id": "PvtBO__04VhG"
      },
      "outputs": [],
      "source": [
        "# -- FUNCTIONS FOR REPORT PLOTS -- #\n",
        "\n",
        "# Plot sample reconstruction\n",
        "def sample_VAE_reconstruction(model, idx = None):\n",
        "    fig = plt.figure(figsize=(10,10))\n",
        "\n",
        "    batch = next(iter(test_images_a))\n",
        "    if idx is None:\n",
        "        idx = random.randint(0,len(batch))\n",
        "    print(idx)\n",
        "\n",
        "    original_img = batch[idx].numpy()\n",
        "    fig.add_subplot(1,2,1)\n",
        "    plt.imshow(original_img)\n",
        "    plt.axis('off')\n",
        "\n",
        "    original_img_reshaped = original_img.reshape((1,)+original_img.shape)\n",
        "\n",
        "    mean, log_var = model.encode(original_img_reshaped)\n",
        "    z = model.reparameterize(mean, log_var)\n",
        "    reconstructed_img = model.sample(z)\n",
        "    reconstructed_img_reshaped = np.reshape(reconstructed_img, (96,96,3))\n",
        "    fig.add_subplot(1,2,2)\n",
        "    plt.imshow(reconstructed_img_reshaped)\n",
        "    plt.axis('off')\n",
        "\n",
        "\n",
        "# Plot sample VAE_16 reconstruction\n",
        "# vae16_encoder.load_weights(wd+'ds807_problem1_weights/saved_weights_VAE/VAE_16_encoder_weights.h5')\n",
        "# vae16_decoder.load_weights(wd+'ds807_problem1_weights/saved_weights_VAE/VAE_16_decoder_weights.h5')\n",
        "# vae16_pre_trained = VAE(16, vae16_encoder, vae16_decoder)\n",
        "# sample_VAE_reconstruction(vae16_pre_trained)"
      ]
    },
    {
      "cell_type": "markdown",
      "metadata": {
        "id": "B1W7i7fj4VhH"
      },
      "source": [
        "### VAE-based classification"
      ]
    },
    {
      "cell_type": "code",
      "execution_count": 41,
      "metadata": {
        "id": "1wiRidRt4VhH"
      },
      "outputs": [],
      "source": [
        "# -- SET UP VAE-BASED CLASSIFIERS -- #\n",
        "\n",
        "# Load and freeze encoder parameters\n",
        "vae16_encoder.load_weights(wd+'saved_weights_VAE/VAE_16_encoder_weights.h5')\n",
        "vae32_encoder.load_weights(wd+'saved_weights_VAE/VAE_32_encoder_weights.h5')\n",
        "\n",
        "freeze_model_parameters(vae16_encoder)\n",
        "freeze_model_parameters(vae32_encoder)\n",
        "\n",
        "# Build classifiers\n",
        "\n",
        "# VAE_16 classifier\n",
        "vae16_classifier = tf.keras.models.Sequential([\n",
        "    vae16_encoder,\n",
        "    tf.keras.layers.Reshape((32,1)),\n",
        "    tf.keras.layers.Conv1D(filters=128, kernel_size=3, activation='relu'),\n",
        "    tf.keras.layers.Dropout(0.3),\n",
        "    tf.keras.layers.Conv1D(filters=64, kernel_size=3, activation='relu'),\n",
        "    tf.keras.layers.Dropout(0.2),\n",
        "    tf.keras.layers.Conv1D(filters=32, kernel_size=3, activation='relu'),\n",
        "    tf.keras.layers.Dropout(0.1),\n",
        "    tf.keras.layers.Flatten(),\n",
        "    tf.keras.layers.Dense(units=128, activation='relu'),\n",
        "    tf.keras.layers.Dense(units=2, activation='softmax')\n",
        "])\n",
        "\n",
        "# VAE_32 classifier\n",
        "vae32_classifier = tf.keras.models.Sequential([\n",
        "    vae32_encoder,\n",
        "    tf.keras.layers.Reshape((64,1)),\n",
        "    tf.keras.layers.Conv1D(filters=128, kernel_size=3, activation='relu'),\n",
        "    tf.keras.layers.Dropout(0.3),\n",
        "    tf.keras.layers.Conv1D(filters=64, kernel_size=3, activation='relu'),\n",
        "    tf.keras.layers.Dropout(0.2),\n",
        "    tf.keras.layers.Conv1D(filters=32, kernel_size=3, activation='relu'),\n",
        "    tf.keras.layers.Dropout(0.1),\n",
        "    tf.keras.layers.Flatten(),\n",
        "    tf.keras.layers.Dense(units=128, activation='relu'),\n",
        "    tf.keras.layers.Dense(units=2, activation='softmax')\n",
        "])\n",
        "\n",
        "#vae16_classifier.summary()\n",
        "#vae32_classifier.summary()"
      ]
    },
    {
      "cell_type": "code",
      "execution_count": 43,
      "metadata": {
        "id": "RiV4xifn4VhH"
      },
      "outputs": [],
      "source": [
        "# -- SET UP TRAINING CALLBACK AND COMPILE CLASSIFIERS -- #\n",
        "\n",
        "early_stopping_callback = tf.keras.callbacks.EarlyStopping(monitor='val_loss',\n",
        "                                                           patience=3,\n",
        "                                                           restore_best_weights=True,\n",
        "                                                           verbose=1)\n",
        "\n",
        "vae16_classifier.compile(optimizer='adam',\n",
        "              loss='categorical_crossentropy',\n",
        "              metrics=['accuracy'])\n",
        "\n",
        "vae32_classifier.compile(optimizer='adam',\n",
        "              loss='categorical_crossentropy',\n",
        "              metrics=['accuracy'])"
      ]
    },
    {
      "cell_type": "code",
      "execution_count": null,
      "metadata": {
        "colab": {
          "base_uri": "https://localhost:8080/"
        },
        "id": "vdVi24ZA4VhH",
        "outputId": "e23fcf85-92e4-400b-d487-c0064025556b"
      },
      "outputs": [],
      "source": [
        "# -- TRAIN VAE_16 CLASSIFIER -- #\n",
        "\n",
        "vae_16_tr_hist = vae16_classifier.fit(train_data_b,\n",
        "                                    validation_data=validation_data_b,\n",
        "                                    epochs=30,\n",
        "                                    callbacks=[early_stopping_callback])\n",
        "\n",
        "#vae16_classifier.save_weights(wd+'ds807_problem1_weights/saved_weights_VAE/VAE_16_classifier_weights.h5')"
      ]
    },
    {
      "cell_type": "code",
      "execution_count": null,
      "metadata": {
        "colab": {
          "base_uri": "https://localhost:8080/"
        },
        "id": "szNrsYzg4VhH",
        "outputId": "ba63f8b4-676b-48a7-fd33-0b0a90528854"
      },
      "outputs": [],
      "source": [
        "# -- TRAIN VAE_32 CLASSIFIER -- #\n",
        "\n",
        "vae_32_tr_hist = vae32_classifier.fit(train_data_b,\n",
        "                                    validation_data=validation_data_b,\n",
        "                                    epochs=30,\n",
        "                                    callbacks=[early_stopping_callback])\n",
        "\n",
        "#vae32_classifier.save_weights(wd+'ds807_problem1_weights/saved_weights_VAE/VAE_32_classifier_weights.h5')"
      ]
    },
    {
      "cell_type": "code",
      "execution_count": null,
      "metadata": {
        "colab": {
          "base_uri": "https://localhost:8080/",
          "height": 280
        },
        "id": "NAntM3ln4VhI",
        "outputId": "1bf82f91-113b-4316-8c66-cb393da6632c"
      },
      "outputs": [],
      "source": [
        "# -- EVALUATE CLASSIFIER AND PLOT TRAINING -- #\n",
        "\n",
        "#vae16_classifier.evaluate(test_data_b)\n",
        "#vae32_classifier.evaluate(test_data_b)\n",
        "\n",
        "#plot_training_hist(vae_32_tr_hist, best_epoch=4)\n",
        "plot_training_hist(vae_32_tr_hist, best_epoch=3)"
      ]
    },
    {
      "cell_type": "markdown",
      "metadata": {
        "id": "rDMhzDyX4VhI"
      },
      "source": [
        "## Transfer learning\n",
        "\n"
      ]
    },
    {
      "cell_type": "markdown",
      "metadata": {
        "id": "5PvP3yeNKvOy"
      },
      "source": [
        "### EfficientNet"
      ]
    },
    {
      "cell_type": "code",
      "execution_count": 120,
      "metadata": {
        "id": "o5VkQW5x4VhI"
      },
      "outputs": [],
      "source": [
        "# -- SETUP EFFICIENTNET0 -- #\n",
        "\n",
        "# Set basemodel using EfficientNet0\n",
        "base_model = EfficientNetB1(\n",
        "    include_top =False,\n",
        "    weights= \"imagenet\",\n",
        "    input_shape=(96,96,3)\n",
        ")\n",
        "\n",
        "# Freeze base model:\n",
        "base_model.trainable = False\n",
        "\n",
        "# summary of base model\n",
        "# base_model.summary()"
      ]
    },
    {
      "cell_type": "code",
      "execution_count": 121,
      "metadata": {
        "id": "RBYYvjZWwHcG"
      },
      "outputs": [],
      "source": [
        "# Create new model on top:\n",
        "PCam_EffNet1 = tf.keras.models.Sequential()\n",
        "PCam_EffNet1.add(base_model)\n",
        "\n",
        "# Add layers for binary classification\n",
        "PCam_EffNet1.add(tf.keras.layers.Flatten()),\n",
        "PCam_EffNet1.add(tf.keras.layers.Dense(200, activation='relu')),\n",
        "PCam_EffNet1.add(tf.keras.layers.Dense(100, activation='relu')),\n",
        "PCam_EffNet1.add(tf.keras.layers.Dense(50, activation='relu')),\n",
        "PCam_EffNet1.add(tf.keras.layers.Dense(2, activation='softmax'))\n",
        "\n",
        "# Summary to get parameters\n",
        "# PCam_basemodel.summary()\n",
        "\n",
        "# Compiling model\n",
        "PCam_EffNet1.compile(optimizer='adam',\n",
        "                       loss= 'categorical_crossentropy',\n",
        "                       metrics=['accuracy'])\n",
        "\n",
        "# Implement early stopping\n",
        "eff_net_early_stopping = tf.keras.callbacks.EarlyStopping(monitor='val_loss',\n",
        "                                                          patience = 3,\n",
        "                                                          restore_best_weights=True,\n",
        "                                                          verbose=1)"
      ]
    },
    {
      "cell_type": "code",
      "execution_count": 122,
      "metadata": {
        "colab": {
          "base_uri": "https://localhost:8080/"
        },
        "id": "mwaiISSRuKHL",
        "outputId": "01b03719-f250-4c2f-cad3-33d3cd00f498"
      },
      "outputs": [
        {
          "name": "stdout",
          "output_type": "stream",
          "text": [
            "Model: \"sequential_22\"\n",
            "_________________________________________________________________\n",
            " Layer (type)                Output Shape              Param #   \n",
            "=================================================================\n",
            " efficientnetb1 (Functional  (None, 3, 3, 1280)        6575239   \n",
            " )                                                               \n",
            "                                                                 \n",
            " flatten_25 (Flatten)        (None, 11520)             0         \n",
            "                                                                 \n",
            " dense_64 (Dense)            (None, 200)               2304200   \n",
            "                                                                 \n",
            " dense_65 (Dense)            (None, 100)               20100     \n",
            "                                                                 \n",
            " dense_66 (Dense)            (None, 50)                5050      \n",
            "                                                                 \n",
            " dense_67 (Dense)            (None, 2)                 102       \n",
            "                                                                 \n",
            "=================================================================\n",
            "Total params: 8904691 (33.97 MB)\n",
            "Trainable params: 2329452 (8.89 MB)\n",
            "Non-trainable params: 6575239 (25.08 MB)\n",
            "_________________________________________________________________\n"
          ]
        }
      ],
      "source": [
        "PCam_EffNet1.summary()"
      ]
    },
    {
      "cell_type": "code",
      "execution_count": null,
      "metadata": {
        "id": "kLiG-rGnsD0h"
      },
      "outputs": [],
      "source": [
        "# Fit EfficientNet0\n",
        "eff_net_hist = PCam_EffNet1.fit(train_data_b,\n",
        "                                  validation_data=validation_data_b,\n",
        "                                  epochs= 50,\n",
        "                                  callbacks= [eff_net_early_stopping])\n"
      ]
    },
    {
      "cell_type": "code",
      "execution_count": 112,
      "metadata": {
        "id": "mSTq3CZSy9uB"
      },
      "outputs": [],
      "source": [
        "#PCam_EffNet1.save_weights(wd+'ds807_problem1_weights/EffNet_weights/EffNet2_weights.h5')"
      ]
    },
    {
      "cell_type": "code",
      "execution_count": 123,
      "metadata": {
        "id": "tI4OMUxhzG2y"
      },
      "outputs": [],
      "source": [
        "#PCam_EffNet1.load_weights(wd+'ds807_problem1_weights/EffNet_weights/EffNet1_weights.h5')"
      ]
    },
    {
      "cell_type": "code",
      "execution_count": 124,
      "metadata": {
        "colab": {
          "base_uri": "https://localhost:8080/"
        },
        "id": "IWLE2is4sMMY",
        "outputId": "5e329963-5b87-40c9-c0f2-a1ebb7a78a10"
      },
      "outputs": [
        {
          "name": "stdout",
          "output_type": "stream",
          "text": [
            "256/256 [==============================] - 17s 50ms/step - loss: 0.5990 - accuracy: 0.7150\n"
          ]
        },
        {
          "data": {
            "text/plain": [
              "[0.5990039110183716, 0.71502685546875]"
            ]
          },
          "execution_count": 124,
          "metadata": {},
          "output_type": "execute_result"
        }
      ],
      "source": [
        "# -- EVALUATE EffNet0 -- #\n",
        "PCam_EffNet1.evaluate(test_data_b)"
      ]
    },
    {
      "cell_type": "markdown",
      "metadata": {
        "id": "7VnDO7Ow4VhI"
      },
      "source": [
        "### ResNet50"
      ]
    },
    {
      "cell_type": "code",
      "execution_count": 58,
      "metadata": {
        "id": "SYPvDjCD4VhI"
      },
      "outputs": [],
      "source": [
        "# -- SET UP RESNET50 -- #\n",
        "\n",
        "# Load w/o standard input-output layers\n",
        "pretrained_ResNet50 = ResNet50(weights='imagenet',\n",
        "                       include_top = False,\n",
        "                       input_shape=(96,96,3))"
      ]
    },
    {
      "cell_type": "code",
      "execution_count": null,
      "metadata": {
        "colab": {
          "base_uri": "https://localhost:8080/"
        },
        "id": "wHWbczcs4VhJ",
        "outputId": "5a965019-f455-4462-d32f-a3c0c22c54db"
      },
      "outputs": [],
      "source": [
        "# -- APPROACH 1 -- #\n",
        "# Freeze entire ResNet50 such that only fully connected part is trainable\n",
        "\n",
        "ResNet50_1 = pretrained_ResNet50\n",
        "freeze_model_parameters(ResNet50_1)\n",
        "\n",
        "# ResNet50_1.summary()\n",
        "\n",
        "PCam_ResNet50_1 = tf.keras.models.Sequential()\n",
        "PCam_ResNet50_1.add(ResNet50_1)\n",
        "\n",
        "# Add layers for binary classification\n",
        "PCam_ResNet50_1.add(tf.keras.layers.Flatten())\n",
        "PCam_ResNet50_1.add(tf.keras.layers.Dense(250, activation='relu')),\n",
        "PCam_ResNet50_1.add(tf.keras.layers.Dense(2, activation='softmax'))\n",
        "\n",
        "# PCam_ResNet50_1.summary()\n",
        "\n",
        "# Compile\n",
        "PCam_ResNet50_1.compile(optimizer='adam',\n",
        "                      loss = 'categorical_crossentropy',\n",
        "                      metrics=['accuracy'])"
      ]
    },
    {
      "cell_type": "code",
      "execution_count": 126,
      "metadata": {
        "id": "A7xRHYHz4VhJ"
      },
      "outputs": [],
      "source": [
        "# -- SET UP TRAINING CALLBACK -- #\n",
        "ResNet50_early_stopping_callback = tf.keras.callbacks.EarlyStopping(monitor='val_loss',\n",
        "                                                                    patience=10,\n",
        "                                                                    restore_best_weights=True,\n",
        "                                                                    verbose=1)"
      ]
    },
    {
      "cell_type": "code",
      "execution_count": null,
      "metadata": {
        "colab": {
          "base_uri": "https://localhost:8080/"
        },
        "id": "pS9R_TLh4VhJ",
        "outputId": "13ae4c81-413f-4b01-d8c8-17f03f7af8e5"
      },
      "outputs": [],
      "source": [
        "# -- TRAIN PCam_ResNet50_1 -- #\n",
        "PCam_ResNet50_1_tr_hist = PCam_ResNet50_1.fit(train_data_b,\n",
        "                                              validation_data=validation_data_b,\n",
        "                                              epochs=50,\n",
        "                                              callbacks=[ResNet50_early_stopping_callback])\n",
        "\n",
        "#PCam_ResNet50_1.save_weights(wd+'ds807_problem1_weights/ResNet50_weights/PCam_ResNet50_1_weights.h5')"
      ]
    },
    {
      "cell_type": "code",
      "execution_count": null,
      "metadata": {
        "colab": {
          "base_uri": "https://localhost:8080/",
          "height": 278
        },
        "id": "kS9HErmg4VhK",
        "outputId": "d1566f32-41ed-45a0-b089-6d19b21b3610"
      },
      "outputs": [],
      "source": [
        "# -- EVALUATE PCam_ResNet50_1 AND PLOT TRAINING -- #\n",
        "PCam_ResNet50_1.evaluate(test_data_b)\n",
        "plot_training_hist(PCam_ResNet50_1_tr_hist, best_epoch=9)"
      ]
    },
    {
      "cell_type": "code",
      "execution_count": null,
      "metadata": {
        "colab": {
          "base_uri": "https://localhost:8080/"
        },
        "id": "EIO6xBrGcv4h",
        "outputId": "98c3da5b-14ef-4dab-9793-6243300a04cc"
      },
      "outputs": [],
      "source": [
        "# -- APPROACH 2 -- #\n",
        "\n",
        "ResNet50_2 = pretrained_ResNet50\n",
        "\n",
        "# Freeze all but last convolutional block of ResNet50\n",
        "for layer in ResNet50_2.layers[:143]:\n",
        "  layer.trainable = False\n",
        "\n",
        "# ResNet50_2.summary()\n",
        "\n",
        "PCam_ResNet50_2 = tf.keras.models.Sequential()\n",
        "PCam_ResNet50_2.add(ResNet50_2)\n",
        "\n",
        "# Add layers for binary classification\n",
        "PCam_ResNet50_2.add(tf.keras.layers.Flatten())\n",
        "PCam_ResNet50_2.add(tf.keras.layers.Dense(250, activation='relu')),\n",
        "PCam_ResNet50_2.add(tf.keras.layers.Dense(2, activation='softmax'))\n",
        "\n",
        "PCam_ResNet50_2.summary()\n",
        "\n",
        "# Compile\n",
        "PCam_ResNet50_2.compile(optimizer='adam',\n",
        "                      loss = 'categorical_crossentropy',\n",
        "                      metrics=['accuracy'])"
      ]
    },
    {
      "cell_type": "code",
      "execution_count": null,
      "metadata": {
        "colab": {
          "base_uri": "https://localhost:8080/"
        },
        "id": "ykcNfm8MdqVG",
        "outputId": "d523d039-3187-4362-d4c2-f3c0b2e8d538"
      },
      "outputs": [],
      "source": [
        "# -- TRAIN PCam_ResNet50_2 -- #\n",
        "PCam_ResNet50_2_tr_hist = PCam_ResNet50_2.fit(train_data_b,\n",
        "                                              validation_data=validation_data_b,\n",
        "                                              epochs=50,\n",
        "                                              callbacks=[ResNet50_early_stopping_callback])\n",
        "\n",
        "# PCam_ResNet50_2.save_weights(wd+'ds807_problem1_weights/ResNet50_weights/PCam_ResNet50_2_weights.h5')"
      ]
    },
    {
      "cell_type": "code",
      "execution_count": null,
      "metadata": {
        "colab": {
          "base_uri": "https://localhost:8080/",
          "height": 297
        },
        "id": "EqDGs2Ikm3RI",
        "outputId": "0e9394de-736d-4497-dd8a-3973d9138bce"
      },
      "outputs": [],
      "source": [
        "# -- EVALUATE PCam_ResNet50_2 AND PLOT TRAINING -- #\n",
        "PCam_ResNet50_2.evaluate(test_data_b)\n",
        "plot_training_hist(PCam_ResNet50_2_tr_hist, best_epoch=2)"
      ]
    }
  ],
  "metadata": {
    "accelerator": "GPU",
    "colab": {
      "collapsed_sections": [
        "e3Z0xTrv4VhB",
        "_JjH4Nfd4VhE",
        "SUOnveMd4VhF",
        "B1W7i7fj4VhH",
        "5PvP3yeNKvOy"
      ],
      "gpuType": "T4",
      "provenance": [],
      "toc_visible": true
    },
    "kernelspec": {
      "display_name": "Python 3",
      "name": "python3"
    },
    "language_info": {
      "codemirror_mode": {
        "name": "ipython",
        "version": 3
      },
      "file_extension": ".py",
      "mimetype": "text/x-python",
      "name": "python",
      "nbconvert_exporter": "python",
      "pygments_lexer": "ipython3",
      "version": "3.10.13"
    }
  },
  "nbformat": 4,
  "nbformat_minor": 0
}
